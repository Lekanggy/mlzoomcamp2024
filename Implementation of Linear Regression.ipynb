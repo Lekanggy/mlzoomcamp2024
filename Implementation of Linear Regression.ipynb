{
 "cells": [
  {
   "cell_type": "markdown",
   "id": "659ae8a7-10d4-4302-a6d6-7ea3c23738b8",
   "metadata": {},
   "source": [
    "## Implemetation of Linear Regression from the standand point of linear gradient to minimise rms"
   ]
  },
  {
   "cell_type": "code",
   "execution_count": 1,
   "id": "a56089c6-3a26-4502-b4d1-ba5c37549cf5",
   "metadata": {},
   "outputs": [],
   "source": [
    "import pandas as pd\n",
    "import numpy as np\n",
    "import matplotlib.pyplot as plt"
   ]
  },
  {
   "cell_type": "code",
   "execution_count": 2,
   "id": "0cc8f751-05f3-4f93-8c9c-c2b8b9efe16f",
   "metadata": {},
   "outputs": [],
   "source": [
    "df = pd.read_csv(\"data.csv\")"
   ]
  },
  {
   "cell_type": "code",
   "execution_count": 3,
   "id": "718e42b1-ec65-4dbf-be42-16349b4af7b0",
   "metadata": {},
   "outputs": [],
   "source": [
    "data = df[[\"Engine HP\", \"MSRP\"]]"
   ]
  },
  {
   "cell_type": "markdown",
   "id": "8e1c5251-fc83-47d8-ba69-b17fba597284",
   "metadata": {},
   "source": [
    "convert to numpy array "
   ]
  },
  {
   "cell_type": "code",
   "execution_count": 4,
   "id": "0552ff8f-d840-453d-a679-444245d54c92",
   "metadata": {},
   "outputs": [],
   "source": [
    "data = data.to_numpy()"
   ]
  },
  {
   "cell_type": "code",
   "execution_count": 5,
   "id": "e725d099-e51e-4b9c-9854-474cde41ef02",
   "metadata": {},
   "outputs": [
    {
     "data": {
      "text/plain": [
       "array([[  335., 46135.],\n",
       "       [  300., 40650.],\n",
       "       [  300., 36350.],\n",
       "       ...,\n",
       "       [  300., 50620.],\n",
       "       [  300., 50920.],\n",
       "       [  221., 28995.]])"
      ]
     },
     "execution_count": 5,
     "metadata": {},
     "output_type": "execute_result"
    }
   ],
   "source": [
    "data"
   ]
  },
  {
   "cell_type": "code",
   "execution_count": 1,
   "id": "9328a005-2c47-435e-9b97-2476d8e22b18",
   "metadata": {},
   "outputs": [],
   "source": [
    "def loss_function(m, b, points):\n",
    "    #Implement the RMS\n",
    "    total_error = 0\n",
    "    for point in points:\n",
    "        x = point[0]\n",
    "        y = point[1]\n",
    "\n",
    "        total_error += y - (m * x + b) ** 2\n",
    "        print(total_error)\n",
    "    total_error /= float(len(points))\n",
    "    print(total_error)"
   ]
  },
  {
   "cell_type": "code",
   "execution_count": 2,
   "id": "01cf8fbd-a1f1-49c8-8f64-50fd2cd8fd7d",
   "metadata": {},
   "outputs": [
    {
     "name": "stdout",
     "output_type": "stream",
     "text": [
      "-898\n",
      "-168948\n",
      "-84474.0\n"
     ]
    }
   ],
   "source": [
    "test_data = [[1, 2], [20, 50]]\n",
    "m = 20\n",
    "b = 10\n",
    "loss_function(m, b, test_data)"
   ]
  },
  {
   "cell_type": "code",
   "execution_count": null,
   "id": "6a6e3b05-f1b8-4a76-b00a-6e0fdffc76b7",
   "metadata": {},
   "outputs": [],
   "source": [
    "def gardient_descent(n_now, m_now, points, L):\n",
    "    m_gardient = 0\n",
    "    n_gradient = 0\n",
    "    n = len(points)\n",
    "    for i in range(n):\n",
    "        x = points[i][0]\n",
    "        y = points[i][0]\n",
    "        m_gradient += -(2/n) *"
   ]
  }
 ],
 "metadata": {
  "kernelspec": {
   "display_name": "Python 3 (ipykernel)",
   "language": "python",
   "name": "python3"
  },
  "language_info": {
   "codemirror_mode": {
    "name": "ipython",
    "version": 3
   },
   "file_extension": ".py",
   "mimetype": "text/x-python",
   "name": "python",
   "nbconvert_exporter": "python",
   "pygments_lexer": "ipython3",
   "version": "3.9.6"
  }
 },
 "nbformat": 4,
 "nbformat_minor": 5
}
